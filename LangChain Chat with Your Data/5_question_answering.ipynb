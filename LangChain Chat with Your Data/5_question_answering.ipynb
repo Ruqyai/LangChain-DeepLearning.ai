{
  "cells": [
    {
      "cell_type": "markdown",
      "metadata": {
        "id": "view-in-github",
        "colab_type": "text"
      },
      "source": [
        "<a href=\"https://colab.research.google.com/github/Ruqyai/LangChain-Models-Prompts-and-Output-Parsers-DeepLearning.ai/blob/main/LangChain%20Chat%20with%20Your%20Data/5_question_answering.ipynb\" target=\"_parent\"><img src=\"https://colab.research.google.com/assets/colab-badge.svg\" alt=\"Open In Colab\"/></a>"
      ]
    },
    {
      "cell_type": "markdown",
      "id": "4ed7feed",
      "metadata": {
        "id": "4ed7feed"
      },
      "source": [
        "# Question Answering"
      ]
    },
    {
      "cell_type": "markdown",
      "id": "bef480fe",
      "metadata": {
        "id": "bef480fe"
      },
      "source": [
        "## Overview\n",
        "\n",
        "Recall the overall workflow for retrieval augmented generation (RAG):"
      ]
    },
    {
      "cell_type": "markdown",
      "id": "07fa2dab",
      "metadata": {
        "id": "07fa2dab"
      },
      "source": [
        "![overview.jpeg](attachment:overview.jpeg)"
      ]
    },
    {
      "cell_type": "markdown",
      "id": "e8825752",
      "metadata": {
        "id": "e8825752"
      },
      "source": [
        "We discussed `Document Loading` and `Splitting` as well as `Storage` and `Retrieval`.\n",
        "\n",
        "Let's load our vectorDB."
      ]
    },
    {
      "cell_type": "code",
      "execution_count": null,
      "id": "b997cff1",
      "metadata": {
        "height": 183,
        "tags": [],
        "id": "b997cff1"
      },
      "outputs": [],
      "source": [
        "import os\n",
        "import openai\n",
        "import sys\n",
        "sys.path.append('../..')\n",
        "\n",
        "from dotenv import load_dotenv, find_dotenv\n",
        "_ = load_dotenv(find_dotenv()) # read local .env file\n",
        "\n",
        "openai.api_key  = os.environ['OPENAI_API_KEY']"
      ]
    },
    {
      "cell_type": "markdown",
      "id": "dc655b16-b832-4777-a651-2bb99c69b62e",
      "metadata": {
        "id": "dc655b16-b832-4777-a651-2bb99c69b62e"
      },
      "source": [
        "The code below was added to assign the openai LLM version filmed until it is deprecated, currently in Sept 2023.\n",
        "LLM responses can often vary, but the responses may be significantly different when using a different model version."
      ]
    },
    {
      "cell_type": "code",
      "execution_count": null,
      "id": "ee60ebc6-b47c-4c04-af4e-620f161d5c00",
      "metadata": {
        "height": 132,
        "tags": [],
        "id": "ee60ebc6-b47c-4c04-af4e-620f161d5c00"
      },
      "outputs": [],
      "source": [
        "import datetime\n",
        "current_date = datetime.datetime.now().date()\n",
        "if current_date < datetime.date(2023, 9, 2):\n",
        "    llm_name = \"gpt-3.5-turbo-0301\"\n",
        "else:\n",
        "    llm_name = \"gpt-3.5-turbo\"\n",
        "print(llm_name)"
      ]
    },
    {
      "cell_type": "code",
      "execution_count": null,
      "id": "e63e5f31",
      "metadata": {
        "height": 115,
        "tags": [],
        "id": "e63e5f31"
      },
      "outputs": [],
      "source": [
        "from langchain.vectorstores import Chroma\n",
        "from langchain.embeddings.openai import OpenAIEmbeddings\n",
        "persist_directory = 'docs/chroma/'\n",
        "embedding = OpenAIEmbeddings()\n",
        "vectordb = Chroma(persist_directory=persist_directory, embedding_function=embedding)"
      ]
    },
    {
      "cell_type": "code",
      "execution_count": null,
      "id": "15fd1341",
      "metadata": {
        "height": 30,
        "id": "15fd1341"
      },
      "outputs": [],
      "source": [
        "print(vectordb._collection.count())"
      ]
    },
    {
      "cell_type": "code",
      "execution_count": null,
      "id": "3a689f25",
      "metadata": {
        "height": 81,
        "tags": [],
        "id": "3a689f25"
      },
      "outputs": [],
      "source": [
        "question = \"What are major topics for this class?\"\n",
        "docs = vectordb.similarity_search(question,k=3)\n",
        "len(docs)"
      ]
    },
    {
      "cell_type": "code",
      "execution_count": null,
      "id": "c67dad34",
      "metadata": {
        "height": 64,
        "tags": [],
        "id": "c67dad34"
      },
      "outputs": [],
      "source": [
        "from langchain.chat_models import ChatOpenAI\n",
        "llm = ChatOpenAI(model_name=llm_name, temperature=0)"
      ]
    },
    {
      "cell_type": "markdown",
      "id": "37ba2ad8",
      "metadata": {
        "id": "37ba2ad8"
      },
      "source": [
        "### RetrievalQA chain"
      ]
    },
    {
      "cell_type": "code",
      "execution_count": null,
      "id": "5b3ebcdd",
      "metadata": {
        "height": 30,
        "tags": [],
        "id": "5b3ebcdd"
      },
      "outputs": [],
      "source": [
        "from langchain.chains import RetrievalQA"
      ]
    },
    {
      "cell_type": "code",
      "execution_count": null,
      "id": "41f0003f",
      "metadata": {
        "height": 81,
        "id": "41f0003f"
      },
      "outputs": [],
      "source": [
        "qa_chain = RetrievalQA.from_chain_type(\n",
        "    llm,\n",
        "    retriever=vectordb.as_retriever()\n",
        ")"
      ]
    },
    {
      "cell_type": "code",
      "execution_count": null,
      "id": "aac0334e",
      "metadata": {
        "height": 30,
        "id": "aac0334e"
      },
      "outputs": [],
      "source": [
        "result = qa_chain({\"query\": question})"
      ]
    },
    {
      "cell_type": "code",
      "execution_count": null,
      "id": "10227125",
      "metadata": {
        "height": 30,
        "id": "10227125"
      },
      "outputs": [],
      "source": [
        "result[\"result\"]"
      ]
    },
    {
      "cell_type": "markdown",
      "id": "5fae8e55",
      "metadata": {
        "id": "5fae8e55"
      },
      "source": [
        "### Prompt"
      ]
    },
    {
      "cell_type": "code",
      "execution_count": null,
      "id": "2b37519f",
      "metadata": {
        "height": 183,
        "scrolled": true,
        "tags": [],
        "id": "2b37519f"
      },
      "outputs": [],
      "source": [
        "from langchain.prompts import PromptTemplate\n",
        "\n",
        "# Build prompt\n",
        "template = \"\"\"Use the following pieces of context to answer the question at the end. If you don't know the answer, just say that you don't know, don't try to make up an answer. Use three sentences maximum. Keep the answer as concise as possible. Always say \"thanks for asking!\" at the end of the answer.\n",
        "{context}\n",
        "Question: {question}\n",
        "Helpful Answer:\"\"\"\n",
        "QA_CHAIN_PROMPT = PromptTemplate.from_template(template)\n"
      ]
    },
    {
      "cell_type": "code",
      "execution_count": null,
      "id": "fcb5817c",
      "metadata": {
        "height": 149,
        "id": "fcb5817c"
      },
      "outputs": [],
      "source": [
        "# Run chain\n",
        "qa_chain = RetrievalQA.from_chain_type(\n",
        "    llm,\n",
        "    retriever=vectordb.as_retriever(),\n",
        "    return_source_documents=True,\n",
        "    chain_type_kwargs={\"prompt\": QA_CHAIN_PROMPT}\n",
        ")"
      ]
    },
    {
      "cell_type": "code",
      "execution_count": null,
      "id": "e0fd6824",
      "metadata": {
        "height": 30,
        "id": "e0fd6824"
      },
      "outputs": [],
      "source": [
        "question = \"Is probability a class topic?\""
      ]
    },
    {
      "cell_type": "code",
      "execution_count": null,
      "id": "f3a21b52",
      "metadata": {
        "height": 30,
        "id": "f3a21b52"
      },
      "outputs": [],
      "source": [
        "result = qa_chain({\"query\": question})"
      ]
    },
    {
      "cell_type": "code",
      "execution_count": null,
      "id": "74e2f6cc",
      "metadata": {
        "height": 30,
        "id": "74e2f6cc"
      },
      "outputs": [],
      "source": [
        "result[\"result\"]"
      ]
    },
    {
      "cell_type": "code",
      "execution_count": null,
      "id": "4a2531ba",
      "metadata": {
        "height": 30,
        "id": "4a2531ba"
      },
      "outputs": [],
      "source": [
        "result[\"source_documents\"][0]"
      ]
    },
    {
      "cell_type": "markdown",
      "id": "d71561c9",
      "metadata": {
        "id": "d71561c9"
      },
      "source": [
        "### RetrievalQA chain types"
      ]
    },
    {
      "cell_type": "code",
      "execution_count": null,
      "id": "baed8815",
      "metadata": {
        "height": 98,
        "id": "baed8815"
      },
      "outputs": [],
      "source": [
        "qa_chain_mr = RetrievalQA.from_chain_type(\n",
        "    llm,\n",
        "    retriever=vectordb.as_retriever(),\n",
        "    chain_type=\"map_reduce\"\n",
        ")"
      ]
    },
    {
      "cell_type": "code",
      "execution_count": null,
      "id": "5c92c614",
      "metadata": {
        "height": 30,
        "id": "5c92c614"
      },
      "outputs": [],
      "source": [
        "result = qa_chain_mr({\"query\": question})"
      ]
    },
    {
      "cell_type": "code",
      "execution_count": null,
      "id": "1ab98d11",
      "metadata": {
        "height": 30,
        "id": "1ab98d11"
      },
      "outputs": [],
      "source": [
        "result[\"result\"]"
      ]
    },
    {
      "cell_type": "markdown",
      "id": "0a6a4633",
      "metadata": {
        "id": "0a6a4633"
      },
      "source": [
        "If you wish to experiment on the `LangChain plus platform`:\n",
        "\n",
        " * Go to [langchain plus platform](https://www.langchain.plus/) and sign up\n",
        " * Create an API key from your account's settings\n",
        " * Use this API key in the code below   \n",
        " * uncomment the code  \n",
        " Note, the endpoint in the video differs from the one below. Use the one below."
      ]
    },
    {
      "cell_type": "code",
      "execution_count": null,
      "id": "4d8c92ee",
      "metadata": {
        "height": 98,
        "tags": [],
        "id": "4d8c92ee"
      },
      "outputs": [],
      "source": [
        "#import os\n",
        "#os.environ[\"LANGCHAIN_TRACING_V2\"] = \"true\"\n",
        "#os.environ[\"LANGCHAIN_ENDPOINT\"] = \"https://api.langchain.plus\"\n",
        "#os.environ[\"LANGCHAIN_API_KEY\"] = \"...\" # replace dots with your api key"
      ]
    },
    {
      "cell_type": "code",
      "execution_count": null,
      "id": "d6c74286",
      "metadata": {
        "height": 132,
        "id": "d6c74286"
      },
      "outputs": [],
      "source": [
        "qa_chain_mr = RetrievalQA.from_chain_type(\n",
        "    llm,\n",
        "    retriever=vectordb.as_retriever(),\n",
        "    chain_type=\"map_reduce\"\n",
        ")\n",
        "result = qa_chain_mr({\"query\": question})\n",
        "result[\"result\"]"
      ]
    },
    {
      "cell_type": "code",
      "execution_count": null,
      "id": "26cd056a",
      "metadata": {
        "height": 132,
        "id": "26cd056a"
      },
      "outputs": [],
      "source": [
        "qa_chain_mr = RetrievalQA.from_chain_type(\n",
        "    llm,\n",
        "    retriever=vectordb.as_retriever(),\n",
        "    chain_type=\"refine\"\n",
        ")\n",
        "result = qa_chain_mr({\"query\": question})\n",
        "result[\"result\"]"
      ]
    },
    {
      "cell_type": "markdown",
      "id": "90e7f14a",
      "metadata": {
        "id": "90e7f14a"
      },
      "source": [
        "### RetrievalQA limitations\n",
        "\n",
        "QA fails to preserve conversational history."
      ]
    },
    {
      "cell_type": "code",
      "execution_count": null,
      "id": "b82d0019",
      "metadata": {
        "height": 81,
        "id": "b82d0019"
      },
      "outputs": [],
      "source": [
        "qa_chain = RetrievalQA.from_chain_type(\n",
        "    llm,\n",
        "    retriever=vectordb.as_retriever()\n",
        ")"
      ]
    },
    {
      "cell_type": "code",
      "execution_count": null,
      "id": "e469441a",
      "metadata": {
        "height": 64,
        "tags": [],
        "id": "e469441a"
      },
      "outputs": [],
      "source": [
        "question = \"Is probability a class topic?\"\n",
        "result = qa_chain({\"query\": question})\n",
        "result[\"result\"]"
      ]
    },
    {
      "cell_type": "code",
      "execution_count": null,
      "id": "4a56ab1f",
      "metadata": {
        "height": 81,
        "tags": [],
        "id": "4a56ab1f"
      },
      "outputs": [],
      "source": [
        "question = \"why are those prerequesites needed?\"\n",
        "result = qa_chain({\"query\": question})\n",
        "result[\"result\"]"
      ]
    },
    {
      "cell_type": "markdown",
      "id": "c6b6ad42-17d6-4acf-b98d-d444e883cdc8",
      "metadata": {
        "id": "c6b6ad42-17d6-4acf-b98d-d444e883cdc8"
      },
      "source": [
        "Note, The LLM response varies. Some responses **do** include a reference to probability which might be gleaned from referenced documents. The point is simply that the model does not have access to past questions or answers, this will be covered in the next section."
      ]
    },
    {
      "cell_type": "code",
      "execution_count": null,
      "id": "37053d31-77e7-4bac-81ad-5cfe337e1f80",
      "metadata": {
        "height": 30,
        "id": "37053d31-77e7-4bac-81ad-5cfe337e1f80"
      },
      "outputs": [],
      "source": []
    }
  ],
  "metadata": {
    "kernelspec": {
      "display_name": "Python 3 (ipykernel)",
      "language": "python",
      "name": "python3"
    },
    "language_info": {
      "codemirror_mode": {
        "name": "ipython",
        "version": 3
      },
      "file_extension": ".py",
      "mimetype": "text/x-python",
      "name": "python",
      "nbconvert_exporter": "python",
      "pygments_lexer": "ipython3",
      "version": "3.9.17"
    },
    "colab": {
      "provenance": [],
      "include_colab_link": true
    }
  },
  "nbformat": 4,
  "nbformat_minor": 5
}